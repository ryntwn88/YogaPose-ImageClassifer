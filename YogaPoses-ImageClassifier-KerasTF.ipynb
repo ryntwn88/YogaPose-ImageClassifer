{
 "cells": [
  {
   "cell_type": "markdown",
   "id": "cbed1efb",
   "metadata": {},
   "source": [
    "# Yoga Poses Image Classifier with Keras and TensorFlow"
   ]
  },
  {
   "cell_type": "markdown",
   "id": "1e4bff06",
   "metadata": {},
   "source": [
    "In this notebook I will load a custom dataset containing images of people performing 24 different yoga poses and train a neural network to classify the pose in a given image. Then I will compare the performance of that model against a pre-trained Inception model and observe whether transfer learning offers a benefit in this task.\n",
    "\n",
    "I am using Keras and TensorFlow frameworks for this exercise as practice for the Google TensorFlow Developer Certification. "
   ]
  },
  {
   "cell_type": "markdown",
   "id": "4b632b6c",
   "metadata": {},
   "source": [
    "## Data Loading & Preprocessing\n",
    "\n",
    "The images in this dataset were collected by scraping Google Images (See the Web Scraper Notebook in this project folder).  I attempted to collect images of a single person performing the specified pose from a variety of positions and include a diversity of gender, age, body-type, race, and settings. While there is some diversity in the data it is likely not equal among all poses, and in all cases there is bias toward fit females. In some photos there are multiple people and some images showing computer-rendered humans are in the dataset. For each pose there are also different orientations represented (straight on, from side, etc), however the bias is towards one or a few common angles. The raw images come in a variety of sizes and resolutions. I manually cleaned up the data to balance out the number of images per pose, remove low quality images, and separate into training and test sets. Some images appeared multiple times, and in some cases I deleted them and in others I introduced agumentations such as horizontal flips, cropping, and adding color filters. Overall the dataset is not great quality, but should suffice for this exercise.\n",
    "\n",
    "The images are saved in directories with the folder names indicating the pose (class label). There are 24 different poses in this dataset:\n",
    "* Bridge\n",
    "* Cat\n",
    "* Chair\n",
    "* Childs\n",
    "* Cobra/Updog\n",
    "* Cow\n",
    "* Crane/Crow\n",
    "* Downward Dog\n",
    "* Half Moon\n",
    "* Headstand\n",
    "* Mountain\n",
    "* Plank\n",
    "* Plough\n",
    "* Seated Forward Fold\n",
    "* Seated Mudra\n",
    "* Side Angle\n",
    "* Side Plank\n",
    "* Standing Bend\n",
    "* Tree\n",
    "* Triangle\n",
    "* Warrior One\n",
    "* Warrior Two\n",
    "* Wheel\n",
    "* Yogic Squat\n",
    "\n",
    "Some of these pose classes group similar poses together, this was primarily due to a lack of images found for the specific pose. Some of these pose classes are also have more subtle distinctions in positioning. It will be interesting to observe how the model handles these cases and whether it is detrimental to overall performance."
   ]
  },
  {
   "cell_type": "code",
   "execution_count": 1,
   "id": "dc120b23",
   "metadata": {},
   "outputs": [],
   "source": [
    "import os\n",
    "import tensorflow as tf\n",
    "\n",
    "# following two lines needed to avoid issue on my system. See, https://github.com/tensorflow/tensorflow/issues/43174\n",
    "physical_devices = tf.config.list_physical_devices('GPU') \n",
    "tf.config.experimental.set_memory_growth(physical_devices[0], True)\n",
    "\n",
    "from tensorflow.keras.preprocessing.image import ImageDataGenerator\n",
    "from IPython import display\n",
    "import time\n",
    "import numpy as np\n",
    "import matplotlib.pyplot as plt\n",
    "from sklearn.metrics import classification_report"
   ]
  },
  {
   "cell_type": "markdown",
   "id": "8d7438f9",
   "metadata": {},
   "source": [
    "First, I am defining variables for the image data and model hyperparameters."
   ]
  },
  {
   "cell_type": "code",
   "execution_count": 22,
   "id": "38999e3e",
   "metadata": {},
   "outputs": [],
   "source": [
    "# Hyperparameters\n",
    "TRAIN_DIR = 'Images/training_set'\n",
    "TEST_DIR = 'Images/test_set'\n",
    "VAL_SPLIT = 0.15\n",
    "IMAGE_SIZE = 256\n",
    "IMAGE_CHAN = 3\n",
    "BATCH_SIZE = 64\n",
    "CLASSES = os.listdir(TRAIN_DIR)\n",
    "NUM_CLASSES = len(CLASSES)\n",
    "EPOCHS = 30"
   ]
  },
  {
   "cell_type": "markdown",
   "id": "046feb00",
   "metadata": {},
   "source": [
    "The code below defines a data processing pipeline that will load the data from the directories and apply some augmentations to the images before they gets passed to the model.  In addition to the standard rescaling and resizing I will include a random horizontal flip, zoom, and shear augmentations to help the model generalize to new images.  The shear operation could be a problem for some cases where the angle is important for identifying the pose, but I suspect this is mostly an edge case and overall it should benefit the task."
   ]
  },
  {
   "cell_type": "code",
   "execution_count": 23,
   "id": "9b4cc578",
   "metadata": {},
   "outputs": [
    {
     "name": "stdout",
     "output_type": "stream",
     "text": [
      "Found 4678 images belonging to 24 classes.\n",
      "Found 810 images belonging to 24 classes.\n",
      "Found 1199 images belonging to 24 classes.\n"
     ]
    }
   ],
   "source": [
    "# Create an Image Data Generator for the training and validation sets\n",
    "train_gen = ImageDataGenerator(\n",
    "                                rescale=1./255,\n",
    "                                shear_range=0.2,\n",
    "                                zoom_range=0.1,\n",
    "                                fill_mode='nearest',\n",
    "                                horizontal_flip=True,\n",
    "                                validation_split=VAL_SPLIT\n",
    "                                )\n",
    "\n",
    "# Create Data Loaders for training and validation sets\n",
    "train_generator = train_gen.flow_from_directory(\n",
    "                                TRAIN_DIR,\n",
    "                                target_size=(IMAGE_SIZE, IMAGE_SIZE),\n",
    "                                batch_size=BATCH_SIZE,\n",
    "                                class_mode='categorical',\n",
    "                                subset='training')\n",
    "\n",
    "val_generator = train_gen.flow_from_directory(\n",
    "                                TRAIN_DIR,\n",
    "                                target_size=(IMAGE_SIZE, IMAGE_SIZE),\n",
    "                                batch_size=BATCH_SIZE,\n",
    "                                class_mode='categorical',\n",
    "                                subset='validation')\n",
    "\n",
    "# Create Image Data Generator and Data Loader for test set\n",
    "\n",
    "test_gen = ImageDataGenerator(rescale=1./255)\n",
    "\n",
    "test_generator = test_gen.flow_from_directory(\n",
    "                                TEST_DIR,\n",
    "                                target_size=(IMAGE_SIZE, IMAGE_SIZE),\n",
    "                                batch_size=BATCH_SIZE,\n",
    "                                class_mode='categorical')"
   ]
  },
  {
   "cell_type": "markdown",
   "id": "7e23e734",
   "metadata": {},
   "source": [
    "The training set contains about 5.5k images with between 200 and 250 images per class. I sample a validation set from the training data. The test set contains 1.2k images with 50 images per class."
   ]
  },
  {
   "cell_type": "markdown",
   "id": "85c4ff1c",
   "metadata": {},
   "source": [
    "Below we see that the classes are not perfectly balanced. This could lead to bias in the model predictions. I am willing to accept the imbalance for this exercise, and leave it to a future experiment to compare the results with a weighted sampling that balances the classes in training."
   ]
  },
  {
   "cell_type": "code",
   "execution_count": 24,
   "id": "0d1552de",
   "metadata": {},
   "outputs": [],
   "source": [
    "def image_count_by_class(data):\n",
    "    class_count = {}\n",
    "    \n",
    "    for i in data.classes:\n",
    "        if i in class_count.keys():\n",
    "            class_count[i] += 1\n",
    "        else:    \n",
    "            class_count[i] = 1\n",
    "    \n",
    "    class_pct = {k: v/len(data.classes) for k,v in class_count.items()}\n",
    "    return class_count, class_pct"
   ]
  },
  {
   "cell_type": "code",
   "execution_count": 25,
   "id": "6197c324",
   "metadata": {},
   "outputs": [],
   "source": [
    "train_class_count, train_class_pct = image_count_by_class(train_generator)"
   ]
  },
  {
   "cell_type": "code",
   "execution_count": 26,
   "id": "e628fada",
   "metadata": {},
   "outputs": [
    {
     "data": {
      "text/plain": [
       "<BarContainer object of 24 artists>"
      ]
     },
     "execution_count": 26,
     "metadata": {},
     "output_type": "execute_result"
    },
    {
     "data": {
      "image/png": "[encoded data removed]",
      "text/plain": [
       "<Figure size 432x288 with 1 Axes>"
      ]
     },
     "metadata": {
      "needs_background": "light"
     },
     "output_type": "display_data"
    }
   ],
   "source": [
    "plt.bar(train_class_count.keys(), train_class_count.values())"
   ]
  },
  {
   "cell_type": "markdown",
   "id": "4f2fc38c",
   "metadata": {},
   "source": [
    "Now lets view a sample of the images."
   ]
  },
  {
   "cell_type": "code",
   "execution_count": 40,
   "id": "096b2d3a",
   "metadata": {},
   "outputs": [
    {
     "data": {
      "image/png": "[encoded data removed]",
      "text/plain": [
       "<Figure size 432x288 with 1 Axes>"
      ]
     },
     "metadata": {
      "needs_background": "light"
     },
     "output_type": "display_data"
    }
   ],
   "source": [
    "for i in range(15):\n",
    "    display.clear_output(wait=True)\n",
    "    plt.imshow(train_generator[0][0][i])\n",
    "    plt.title(f\"Class: {CLASSES[np.argmax(train_generator[0][1][i])]}\")\n",
    "    plt.show()\n",
    "    time.sleep(0.5)"
   ]
  },
  {
   "cell_type": "markdown",
   "id": "7b7b6ec7",
   "metadata": {},
   "source": [
    "## Building a Neural Network "
   ]
  },
  {
   "cell_type": "markdown",
   "id": "e0fe9017",
   "metadata": {},
   "source": [
    "As a starting point I will build a fairly standard convolutional neural network consisting of 5 layers of a 2D Convolution followed with MaxPooling feeding into 2 fully connected layers for final class prediction. I introduce dropout layers with the hope that it improves generalization and prevents overfitting."
   ]
  },
  {
   "cell_type": "code",
   "execution_count": 28,
   "id": "e597db71",
   "metadata": {},
   "outputs": [
    {
     "name": "stdout",
     "output_type": "stream",
     "text": [
      "Model: \"sequential_1\"\n",
      "_________________________________________________________________\n",
      "Layer (type)                 Output Shape              Param #   \n",
      "=================================================================\n",
      "conv2d_99 (Conv2D)           (None, 254, 254, 16)      448       \n",
      "_________________________________________________________________\n",
      "max_pooling2d_9 (MaxPooling2 (None, 127, 127, 16)      0         \n",
      "_________________________________________________________________\n",
      "conv2d_100 (Conv2D)          (None, 125, 125, 32)      4640      \n",
      "_________________________________________________________________\n",
      "max_pooling2d_10 (MaxPooling (None, 62, 62, 32)        0         \n",
      "_________________________________________________________________\n",
      "conv2d_101 (Conv2D)          (None, 60, 60, 64)        18496     \n",
      "_________________________________________________________________\n",
      "max_pooling2d_11 (MaxPooling (None, 30, 30, 64)        0         \n",
      "_________________________________________________________________\n",
      "conv2d_102 (Conv2D)          (None, 28, 28, 64)        36928     \n",
      "_________________________________________________________________\n",
      "max_pooling2d_12 (MaxPooling (None, 14, 14, 64)        0         \n",
      "_________________________________________________________________\n",
      "conv2d_103 (Conv2D)          (None, 12, 12, 64)        36928     \n",
      "_________________________________________________________________\n",
      "max_pooling2d_13 (MaxPooling (None, 6, 6, 64)          0         \n",
      "_________________________________________________________________\n",
      "flatten_2 (Flatten)          (None, 2304)              0         \n",
      "_________________________________________________________________\n",
      "dense_5 (Dense)              (None, 1024)              2360320   \n",
      "_________________________________________________________________\n",
      "dropout_3 (Dropout)          (None, 1024)              0         \n",
      "_________________________________________________________________\n",
      "dense_6 (Dense)              (None, 256)               262400    \n",
      "_________________________________________________________________\n",
      "dropout_4 (Dropout)          (None, 256)               0         \n",
      "_________________________________________________________________\n",
      "dense_7 (Dense)              (None, 24)                6168      \n",
      "=================================================================\n",
      "Total params: 2,726,328\n",
      "Trainable params: 2,726,328\n",
      "Non-trainable params: 0\n",
      "_________________________________________________________________\n"
     ]
    }
   ],
   "source": [
    "model = tf.keras.models.Sequential([\n",
    "    tf.keras.layers.Conv2D(16, (3,3), activation='relu', input_shape=(IMAGE_SIZE, IMAGE_SIZE, IMAGE_CHAN)),\n",
    "    tf.keras.layers.MaxPool2D((2,2)),\n",
    "    tf.keras.layers.Conv2D(32, (3,3), activation='relu'),\n",
    "    tf.keras.layers.MaxPool2D((2,2)),\n",
    "    tf.keras.layers.Conv2D(64, (3,3), activation='relu'),\n",
    "    tf.keras.layers.MaxPool2D((2,2)),\n",
    "    tf.keras.layers.Conv2D(64, (3,3), activation='relu'),\n",
    "    tf.keras.layers.MaxPool2D((2,2)),\n",
    "    tf.keras.layers.Conv2D(64, (3,3), activation='relu'),\n",
    "    tf.keras.layers.MaxPool2D((2,2)),\n",
    "    tf.keras.layers.Flatten(),\n",
    "    tf.keras.layers.Dense(1024, activation='relu'),\n",
    "    tf.keras.layers.Dropout(0.2),\n",
    "    tf.keras.layers.Dense(256, activation='relu'),\n",
    "    tf.keras.layers.Dropout(0.2),\n",
    "    tf.keras.layers.Dense(NUM_CLASSES, activation='softmax')\n",
    "])\n",
    "\n",
    "model.compile(optimizer='adam', metrics=['accuracy'], loss='categorical_crossentropy')\n",
    "model.summary()"
   ]
  },
  {
   "cell_type": "markdown",
   "id": "20fd4263",
   "metadata": {},
   "source": [
    "### Writing a Callback for Early Stopping\n",
    "\n",
    "I will stop training if we reach 99% accuracy on the training set."
   ]
  },
  {
   "cell_type": "code",
   "execution_count": 29,
   "id": "4d7570e6",
   "metadata": {},
   "outputs": [],
   "source": [
    "class earlyStopAcc(tf.keras.callbacks.Callback):\n",
    "    def on_epoch_end(self, epoch, logs=None):\n",
    "        if logs.get('accuracy') >= 0.99:\n",
    "            self.model.stop_training = True\n",
    "            print('Reached 99% accuracy, stopping training.')\n",
    "\n",
    "callbacks = earlyStopAcc()"
   ]
  },
  {
   "cell_type": "markdown",
   "id": "4d83ac9c",
   "metadata": {},
   "source": [
    "## Training the Model "
   ]
  },
  {
   "cell_type": "code",
   "execution_count": 30,
   "id": "11396dbd",
   "metadata": {},
   "outputs": [
    {
     "name": "stdout",
     "output_type": "stream",
     "text": [
      "Epoch 1/30\n",
      "74/74 [==============================] - 63s 847ms/step - loss: 3.1755 - accuracy: 0.0464 - val_loss: 2.8892 - val_accuracy: 0.1444\n",
      "Epoch 2/30\n",
      "74/74 [==============================] - 62s 840ms/step - loss: 2.7146 - accuracy: 0.2046 - val_loss: 1.9501 - val_accuracy: 0.4198\n",
      "Epoch 3/30\n",
      "74/74 [==============================] - 62s 840ms/step - loss: 1.9529 - accuracy: 0.4240 - val_loss: 1.4765 - val_accuracy: 0.5494\n",
      "Epoch 4/30\n",
      "74/74 [==============================] - 62s 838ms/step - loss: 1.4629 - accuracy: 0.5717 - val_loss: 1.0923 - val_accuracy: 0.6704\n",
      "Epoch 5/30\n",
      "74/74 [==============================] - 62s 840ms/step - loss: 1.0978 - accuracy: 0.6694 - val_loss: 1.0590 - val_accuracy: 0.6840\n",
      "Epoch 6/30\n",
      "74/74 [==============================] - 62s 835ms/step - loss: 0.8927 - accuracy: 0.7368 - val_loss: 0.8731 - val_accuracy: 0.7383\n",
      "Epoch 7/30\n",
      "74/74 [==============================] - 62s 840ms/step - loss: 0.7201 - accuracy: 0.7852 - val_loss: 0.7700 - val_accuracy: 0.7630\n",
      "Epoch 8/30\n",
      "74/74 [==============================] - 62s 839ms/step - loss: 0.5795 - accuracy: 0.8208 - val_loss: 0.7035 - val_accuracy: 0.7963\n",
      "Epoch 9/30\n",
      "74/74 [==============================] - 62s 842ms/step - loss: 0.4580 - accuracy: 0.8587 - val_loss: 0.7307 - val_accuracy: 0.8086\n",
      "Epoch 10/30\n",
      "74/74 [==============================] - 62s 838ms/step - loss: 0.3531 - accuracy: 0.8970 - val_loss: 0.6074 - val_accuracy: 0.8321\n",
      "Epoch 11/30\n",
      "74/74 [==============================] - 62s 839ms/step - loss: 0.2806 - accuracy: 0.9170 - val_loss: 0.6576 - val_accuracy: 0.8235\n",
      "Epoch 12/30\n",
      "74/74 [==============================] - 62s 843ms/step - loss: 0.2642 - accuracy: 0.9189 - val_loss: 0.6833 - val_accuracy: 0.8259\n",
      "Epoch 13/30\n",
      "74/74 [==============================] - 62s 840ms/step - loss: 0.2637 - accuracy: 0.9231 - val_loss: 0.6855 - val_accuracy: 0.8383\n",
      "Epoch 14/30\n",
      "74/74 [==============================] - 62s 839ms/step - loss: 0.1769 - accuracy: 0.9445 - val_loss: 0.8058 - val_accuracy: 0.8037\n",
      "Epoch 15/30\n",
      "74/74 [==============================] - 62s 842ms/step - loss: 0.1925 - accuracy: 0.9404 - val_loss: 0.6442 - val_accuracy: 0.8432\n",
      "Epoch 16/30\n",
      "74/74 [==============================] - 62s 840ms/step - loss: 0.1760 - accuracy: 0.9469 - val_loss: 0.6523 - val_accuracy: 0.8617\n",
      "Epoch 17/30\n",
      "74/74 [==============================] - 62s 839ms/step - loss: 0.1706 - accuracy: 0.9464 - val_loss: 0.6670 - val_accuracy: 0.8494\n",
      "Epoch 18/30\n",
      "74/74 [==============================] - 62s 841ms/step - loss: 0.1509 - accuracy: 0.9577 - val_loss: 0.7197 - val_accuracy: 0.8543\n",
      "Epoch 19/30\n",
      "74/74 [==============================] - 62s 840ms/step - loss: 0.1408 - accuracy: 0.9607 - val_loss: 0.6351 - val_accuracy: 0.8593\n",
      "Epoch 20/30\n",
      "74/74 [==============================] - 62s 837ms/step - loss: 0.1155 - accuracy: 0.9685 - val_loss: 0.6845 - val_accuracy: 0.8593\n",
      "Epoch 21/30\n",
      "74/74 [==============================] - 62s 840ms/step - loss: 0.1187 - accuracy: 0.9629 - val_loss: 0.6746 - val_accuracy: 0.8580\n",
      "Epoch 22/30\n",
      "74/74 [==============================] - 62s 837ms/step - loss: 0.0775 - accuracy: 0.9707 - val_loss: 0.7998 - val_accuracy: 0.8605\n",
      "Epoch 23/30\n",
      "74/74 [==============================] - 62s 837ms/step - loss: 0.0998 - accuracy: 0.9661 - val_loss: 0.7962 - val_accuracy: 0.8531\n",
      "Epoch 24/30\n",
      "74/74 [==============================] - 62s 838ms/step - loss: 0.0753 - accuracy: 0.9722 - val_loss: 0.6474 - val_accuracy: 0.8679\n",
      "Epoch 25/30\n",
      "74/74 [==============================] - 62s 839ms/step - loss: 0.0902 - accuracy: 0.9729 - val_loss: 0.7470 - val_accuracy: 0.8704\n",
      "Epoch 26/30\n",
      "74/74 [==============================] - 62s 840ms/step - loss: 0.0783 - accuracy: 0.9764 - val_loss: 0.6798 - val_accuracy: 0.8654\n",
      "Epoch 27/30\n",
      "74/74 [==============================] - 62s 840ms/step - loss: 0.1141 - accuracy: 0.9678 - val_loss: 0.6453 - val_accuracy: 0.8630\n",
      "Epoch 28/30\n",
      "74/74 [==============================] - 62s 838ms/step - loss: 0.0653 - accuracy: 0.9776 - val_loss: 0.9000 - val_accuracy: 0.8481\n",
      "Epoch 29/30\n",
      "74/74 [==============================] - 62s 837ms/step - loss: 0.0833 - accuracy: 0.9747 - val_loss: 0.7192 - val_accuracy: 0.8617\n",
      "Epoch 30/30\n",
      "74/74 [==============================] - 62s 839ms/step - loss: 0.0875 - accuracy: 0.9763 - val_loss: 0.7349 - val_accuracy: 0.8531\n",
      "Wall time: 31min 2s\n"
     ]
    }
   ],
   "source": [
    "%%time\n",
    "history = model.fit(train_generator, validation_data=val_generator, epochs=EPOCHS, callbacks=[callbacks])"
   ]
  },
  {
   "cell_type": "markdown",
   "id": "ba5b621a",
   "metadata": {},
   "source": [
    "Below we will plot the training history to see how the model metrics evolved on the training and validation sets"
   ]
  },
  {
   "cell_type": "code",
   "execution_count": 11,
   "id": "9501b460",
   "metadata": {},
   "outputs": [],
   "source": [
    "def plot_train_history(hist):\n",
    "    # Plot accuracy history\n",
    "    plt.plot(hist.history['accuracy'])\n",
    "    plt.plot(hist.history['val_accuracy'])\n",
    "    plt.title('Model Accuracy')\n",
    "    plt.ylabel('Accuracy')\n",
    "    plt.xlabel('Epoch')\n",
    "    plt.legend(['Train', 'Val'], loc='lower right')\n",
    "    plt.show()\n",
    "    # Plot loss history\n",
    "    plt.plot(hist.history['loss'])\n",
    "    plt.plot(hist.history['val_loss'])\n",
    "    plt.title('Model Loss')\n",
    "    plt.ylabel('Loss')\n",
    "    plt.xlabel('Epoch')\n",
    "    plt.legend(['Train', 'Val'], loc='lower left')\n",
    "    plt.show()"
   ]
  },
  {
   "cell_type": "code",
   "execution_count": 31,
   "id": "e086506c",
   "metadata": {},
   "outputs": [
    {
     "data": {
      "image/png": "[encoded data removed]",
      "text/plain": [
       "<Figure size 432x288 with 1 Axes>"
      ]
     },
     "metadata": {
      "needs_background": "light"
     },
     "output_type": "display_data"
    },
    {
     "data": {
      "image/png": "[encoded data removed]",
      "text/plain": [
       "<Figure size 432x288 with 1 Axes>"
      ]
     },
     "metadata": {
      "needs_background": "light"
     },
     "output_type": "display_data"
    }
   ],
   "source": [
    "plot_train_history(history)"
   ]
  },
  {
   "cell_type": "markdown",
   "id": "a0127ea5",
   "metadata": {},
   "source": [
    "## Testing the Model"
   ]
  },
  {
   "cell_type": "code",
   "execution_count": 32,
   "id": "9f236581",
   "metadata": {},
   "outputs": [
    {
     "name": "stdout",
     "output_type": "stream",
     "text": [
      "19/19 [==============================] - 5s 253ms/step - loss: 0.7748 - accuracy: 0.8766\n"
     ]
    }
   ],
   "source": [
    "results = model.evaluate(test_generator, batch_size=BATCH_SIZE)"
   ]
  },
  {
   "cell_type": "markdown",
   "id": "90ae4465",
   "metadata": {},
   "source": [
    "The model trained from scratch is able to get to 88% accuracy on the test set, which is pretty good but not very exciting. The training history shows that accuracy on the validation set stopped improving after about 10 epochs while the training accuracy climbed towards 98%.\n",
    "\n",
    "The Classification Report from Scikit-Learn gives us more detail on the classification accuracy by class."
   ]
  },
  {
   "cell_type": "code",
   "execution_count": 33,
   "id": "5550d351",
   "metadata": {},
   "outputs": [
    {
     "name": "stdout",
     "output_type": "stream",
     "text": [
      "                   precision    recall  f1-score   support\n",
      "\n",
      "           bridge       0.88      0.86      0.87        50\n",
      "              cat       0.89      0.84      0.87        50\n",
      "            chair       0.93      0.86      0.90        50\n",
      "           childs       0.73      0.94      0.82        50\n",
      "       cobraupdog       0.83      0.70      0.76        50\n",
      "              cow       0.94      0.90      0.92        50\n",
      "        cranecrow       0.88      0.90      0.89        50\n",
      "      downwarddog       0.94      0.92      0.93        50\n",
      "         halfmoon       0.88      0.92      0.90        50\n",
      "        headstand       0.87      0.96      0.91        50\n",
      "         mountain       0.90      0.88      0.89        50\n",
      "            plank       0.91      0.80      0.85        50\n",
      "           plough       0.92      0.92      0.92        50\n",
      "seatedforwardfold       0.79      0.76      0.78        50\n",
      "      seatedmudra       0.87      0.78      0.82        50\n",
      "        sideangle       0.90      0.88      0.89        50\n",
      "        sideplank       0.87      0.92      0.89        50\n",
      "     standingbend       0.85      0.88      0.86        50\n",
      "             tree       0.87      0.92      0.89        50\n",
      "         triangle       0.94      0.92      0.93        49\n",
      "       warriorone       0.92      0.90      0.91        50\n",
      "       warriortwo       0.98      0.94      0.96        50\n",
      "            wheel       0.88      0.84      0.86        50\n",
      "       yogicsquat       0.75      0.90      0.82        50\n",
      "\n",
      "         accuracy                           0.88      1199\n",
      "        macro avg       0.88      0.88      0.88      1199\n",
      "     weighted avg       0.88      0.88      0.88      1199\n",
      "\n"
     ]
    }
   ],
   "source": [
    "Y_test = []\n",
    "for i in range(len(test_generator)):\n",
    "    for j in test_generator[i][1]:\n",
    "        Y_test.append(np.argmax(j))\n",
    "y_pred = np.argmax(model.predict(test_generator), axis=1)\n",
    "print(classification_report(Y_test, y_pred, target_names=CLASSES))"
   ]
  },
  {
   "cell_type": "markdown",
   "id": "add9bbb1",
   "metadata": {},
   "source": [
    "The performance is not equal across classes, with a range of 75% to 95% accuracy (using the F1-score).  Some of this could be due to the imbalanced number of images by class in the training set, or some classes might have had better quality images, or some classes were simply easier to learn."
   ]
  },
  {
   "cell_type": "markdown",
   "id": "7361fde2",
   "metadata": {},
   "source": [
    "## Transfer Learning\n",
    "\n",
    "This next section will import an Inception model pre-trained on the famous ImageNet dataset.  Taking advantage of all the features learned in that pre-training might produce a better classifier for this new task. I learned how to implement this in the DeepLearning.ai course \"Convolutional Neural Networks in TensorFlow\" offered on Coursera."
   ]
  },
  {
   "cell_type": "code",
   "execution_count": 34,
   "id": "dea56a53",
   "metadata": {},
   "outputs": [],
   "source": [
    "from tensorflow.keras.applications.inception_v3 import InceptionV3\n",
    "\n",
    "# Create an instance of the inception model with imagenet weights\n",
    "\n",
    "inception_model = InceptionV3(\n",
    "                        input_shape =(IMAGE_SIZE, IMAGE_SIZE ,IMAGE_CHAN),\n",
    "                        include_top = False,\n",
    "                        weights='imagenet'\n",
    "                        )\n",
    "\n",
    "for layer in inception_model.layers:\n",
    "    layer.trainable = False\n",
    "\n",
    "last_layer = inception_model.get_layer('mixed7')\n",
    "last_output = last_layer.output"
   ]
  },
  {
   "cell_type": "code",
   "execution_count": null,
   "id": "14e0cf7d",
   "metadata": {},
   "outputs": [],
   "source": [
    "# Add new layers to perform classification on the new dataset with number of classes as the last layers outputs\n",
    "new_top = tf.keras.layers.Flatten()(last_output)\n",
    "new_top = tf.keras.layers.Dense(1024, activation='relu')(new_top)\n",
    "new_top = tf.keras.layers.Dropout(0.2)(new_top)                  \n",
    "new_top = tf.keras.layers.Dense(NUM_CLASSES, activation='softmax')(new_top)           \n",
    "\n",
    "pretrained_model = tf.keras.Model(inception_model.input, new_top) \n",
    "\n",
    "pretrained_model.compile(optimizer = 'adam', \n",
    "              loss = 'categorical_crossentropy', \n",
    "              metrics = ['accuracy'])\n",
    "\n",
    "# Warning this model summary is very long\n",
    "# pretrained_model.summary()"
   ]
  },
  {
   "cell_type": "code",
   "execution_count": 36,
   "id": "40f69f3c",
   "metadata": {},
   "outputs": [
    {
     "name": "stdout",
     "output_type": "stream",
     "text": [
      "Epoch 1/30\n",
      "74/74 [==============================] - 67s 855ms/step - loss: 11.1764 - accuracy: 0.3581 - val_loss: 0.4967 - val_accuracy: 0.8556\n",
      "Epoch 2/30\n",
      "74/74 [==============================] - 62s 844ms/step - loss: 0.4158 - accuracy: 0.8770 - val_loss: 0.2999 - val_accuracy: 0.8988\n",
      "Epoch 3/30\n",
      "74/74 [==============================] - 62s 843ms/step - loss: 0.1582 - accuracy: 0.9509 - val_loss: 0.3038 - val_accuracy: 0.9173\n",
      "Epoch 4/30\n",
      "74/74 [==============================] - 63s 850ms/step - loss: 0.1022 - accuracy: 0.9664 - val_loss: 0.2340 - val_accuracy: 0.9370\n",
      "Epoch 5/30\n",
      "74/74 [==============================] - 63s 852ms/step - loss: 0.0732 - accuracy: 0.9781 - val_loss: 0.2578 - val_accuracy: 0.9321\n",
      "Epoch 6/30\n",
      "74/74 [==============================] - 63s 851ms/step - loss: 0.0452 - accuracy: 0.9863 - val_loss: 0.2038 - val_accuracy: 0.9444\n",
      "Epoch 7/30\n",
      "74/74 [==============================] - 63s 852ms/step - loss: 0.0470 - accuracy: 0.9874 - val_loss: 0.2440 - val_accuracy: 0.9383\n",
      "Epoch 8/30\n",
      "74/74 [==============================] - 63s 850ms/step - loss: 0.0356 - accuracy: 0.9878 - val_loss: 0.2343 - val_accuracy: 0.9444\n",
      "Epoch 9/30\n",
      "74/74 [==============================] - 63s 854ms/step - loss: 0.0307 - accuracy: 0.9926 - val_loss: 0.2337 - val_accuracy: 0.9333\n",
      "Reached 99% accuracy, stopping training.\n",
      "Wall time: 9min 29s\n"
     ]
    }
   ],
   "source": [
    "%%time\n",
    "pretrained_hist = pretrained_model.fit(train_generator, validation_data=val_generator, epochs=EPOCHS, callbacks=[callbacks])"
   ]
  },
  {
   "cell_type": "code",
   "execution_count": 37,
   "id": "792f2c31",
   "metadata": {},
   "outputs": [
    {
     "data": {
      "image/png": "[encoded data removed]",
      "text/plain": [
       "<Figure size 432x288 with 1 Axes>"
      ]
     },
     "metadata": {
      "needs_background": "light"
     },
     "output_type": "display_data"
    },
    {
     "data": {
      "image/png": "[encoded data removed]",
      "text/plain": [
       "<Figure size 432x288 with 1 Axes>"
      ]
     },
     "metadata": {
      "needs_background": "light"
     },
     "output_type": "display_data"
    }
   ],
   "source": [
    "plot_train_history(pretrained_hist)"
   ]
  },
  {
   "cell_type": "code",
   "execution_count": 38,
   "id": "c4964ff9",
   "metadata": {},
   "outputs": [
    {
     "name": "stdout",
     "output_type": "stream",
     "text": [
      "19/19 [==============================] - 5s 262ms/step - loss: 0.2442 - accuracy: 0.9391\n"
     ]
    }
   ],
   "source": [
    "results = pretrained_model.evaluate(test_generator, batch_size=BATCH_SIZE)"
   ]
  },
  {
   "cell_type": "code",
   "execution_count": 39,
   "id": "30fbda39",
   "metadata": {},
   "outputs": [
    {
     "name": "stdout",
     "output_type": "stream",
     "text": [
      "                   precision    recall  f1-score   support\n",
      "\n",
      "           bridge       0.92      0.96      0.94        50\n",
      "              cat       0.91      0.96      0.93        50\n",
      "            chair       0.98      0.94      0.96        50\n",
      "           childs       0.90      0.92      0.91        50\n",
      "       cobraupdog       0.96      0.86      0.91        50\n",
      "              cow       0.96      0.94      0.95        50\n",
      "        cranecrow       0.94      1.00      0.97        50\n",
      "      downwarddog       0.98      0.94      0.96        50\n",
      "         halfmoon       0.92      0.98      0.95        50\n",
      "        headstand       0.92      0.98      0.95        50\n",
      "         mountain       0.88      1.00      0.93        50\n",
      "            plank       0.87      0.94      0.90        50\n",
      "           plough       0.96      0.98      0.97        50\n",
      "seatedforwardfold       0.88      0.92      0.90        50\n",
      "      seatedmudra       0.98      0.96      0.97        50\n",
      "        sideangle       0.98      0.84      0.90        50\n",
      "        sideplank       0.88      0.88      0.88        50\n",
      "     standingbend       1.00      0.90      0.95        50\n",
      "             tree       1.00      0.94      0.97        50\n",
      "         triangle       0.90      0.96      0.93        49\n",
      "       warriorone       0.98      0.94      0.96        50\n",
      "       warriortwo       0.96      1.00      0.98        50\n",
      "            wheel       0.96      0.88      0.92        50\n",
      "       yogicsquat       0.96      0.92      0.94        50\n",
      "\n",
      "         accuracy                           0.94      1199\n",
      "        macro avg       0.94      0.94      0.94      1199\n",
      "     weighted avg       0.94      0.94      0.94      1199\n",
      "\n"
     ]
    }
   ],
   "source": [
    "Y_test = []\n",
    "for i in range(len(test_generator)):\n",
    "    for j in test_generator[i][1]:\n",
    "        Y_test.append(np.argmax(j))\n",
    "y_pred = np.argmax(pretrained_model.predict(test_generator), axis=1)\n",
    "print(classification_report(Y_test, y_pred, target_names=CLASSES))"
   ]
  },
  {
   "cell_type": "markdown",
   "id": "28223896",
   "metadata": {},
   "source": [
    "The pretrained InceptionV3 model did a much better job at this classification task, and it took less time to train than the from scratch model. There is variation in the accuracy by class with the pretrained model, but the range is from 88% to 98% accuracy which is significant improvement over the previous model. That's an example of the power of transfer learning, and being able to build on top of state of the art technology. I suspect there were features related to human body parts and various shapes that were useful in the application to yoga poses."
   ]
  },
  {
   "cell_type": "markdown",
   "id": "c77c8950",
   "metadata": {},
   "source": [
    "## Conclusion\n",
    "\n",
    "In this project I demonstrated a standard machine learning workflow with the Keras and TensorFlow frameworks.  I made use of web scraping to collect the data, practiced manual cleaning to improve the quality of the dataset, and built a pipeline to process the images and labels for feeding into a neural network.  I built a fairly simple convolutional neural network architecture for multi-class image classification and trained it from scratch to a decent accuracy. I then used a pretrained Inception model, fine-tuning it on the new dataset and saw improved performance, both in accuracy and total training time.\n",
    "\n",
    "The dataset size and quality could be better and I could try using a weighted sampling to balance out the number of images seen from each class during training. Further exploration could include testing different architectures to compare performance or implementing a pose estimation model. I would also be curious to explore what kinds of images a Generative Adverserial Network would generate if trained on the yoga poses dataset.\n",
    "\n",
    "Overall this was a fun and educational exercise. I enjoyed the ease and simplicity of the Keras framework and learned a lot while building the dataset from scratch."
   ]
  },
  {
   "cell_type": "code",
   "execution_count": null,
   "id": "9d13bb8a",
   "metadata": {},
   "outputs": [],
   "source": []
  }
 ],
 "metadata": {
  "kernelspec": {
   "display_name": "Python 3",
   "language": "python",
   "name": "python3"
  },
  "language_info": {
   "codemirror_mode": {
    "name": "ipython",
    "version": 3
   },
   "file_extension": ".py",
   "mimetype": "text/x-python",
   "name": "python",
   "nbconvert_exporter": "python",
   "pygments_lexer": "ipython3",
   "version": "3.8.8"
  }
 },
 "nbformat": 4,
 "nbformat_minor": 5
}
