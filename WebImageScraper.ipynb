{
 "cells": [
  {
   "cell_type": "markdown",
   "metadata": {},
   "source": [
    "## Google Image Web Scraper with Selenium in Julia/Python\n",
    "\n",
    "The purpose of this notebook is to collect images from the web to use for training and testing a neural network for image classification.\n",
    "\n",
    "[Selenium](https://selenium-python.readthedocs.io/) is a convenient Python package for controlling a web browser using code, automating web scraping processes. I was unable to find an equivalently convenient package that replaces the fuctionality of ```selenium``` in pure Julia, but ```PyCall``` makes calling Python packages from Julia very easy!\n",
    "\n",
    "There are many good tutorials available on scraping Google Images with ```selenium``` and I chose to use this [tutorial](https://medium.com/@wwwanandsuresh/web-scraping-images-from-google-9084545808a2) from Anand Suresh posted on Medium as my guide.  Using his code as the base I modified out of need for Julia language differences and some personal preference and conveniences."
   ]
  },
  {
   "cell_type": "code",
   "execution_count": 1,
   "metadata": {},
   "outputs": [],
   "source": [
    "# UNCOMMENT AND RUN TO INSTALL PACKAGES\n",
    "# using Pkg\n",
    "# Pkg.add(\"Images\")\n",
    "# Pkg.add(\"PyCall\")\n",
    "# Pkg.add(\"Conda\")\n",
    "# using Conda\n",
    "# Conda.add(\"selenium\")"
   ]
  },
  {
   "cell_type": "code",
   "execution_count": 2,
   "metadata": {},
   "outputs": [],
   "source": [
    "using Images\n",
    "using PyCall"
   ]
  },
  {
   "cell_type": "markdown",
   "metadata": {},
   "source": [
    "Use ```PyCall``` to import the ```selenium webdriver``` and define the path where the Chrome (or other browser) web driver executable is saved."
   ]
  },
  {
   "cell_type": "code",
   "execution_count": 3,
   "metadata": {},
   "outputs": [
    {
     "data": {
      "text/plain": [
       "\"C:/WebDriver/bin/chromedriver\""
      ]
     },
     "execution_count": 3,
     "metadata": {},
     "output_type": "execute_result"
    }
   ],
   "source": [
    "@pyimport selenium.webdriver as webdriver\n",
    "\n",
    "DRIVER_PATH = \"C:/WebDriver/bin/chromedriver\"    # replace with path to your Chrome Web Driver"
   ]
  },
  {
   "cell_type": "markdown",
   "metadata": {},
   "source": [
    "Now we we'll write the functions to control the web driver and execute search queries."
   ]
  },
  {
   "cell_type": "code",
   "execution_count": 4,
   "metadata": {},
   "outputs": [
    {
     "data": {
      "text/plain": [
       "google_image_urls (generic function with 1 method)"
      ]
     },
     "execution_count": 4,
     "metadata": {},
     "output_type": "execute_result"
    }
   ],
   "source": [
    "function google_image_urls(query::String, max_links::Int64, webdrv::PyObject, sleep_time::Int64 )\n",
    "    \n",
    "    # Build query\n",
    "    search_url = string(\"https://www.google.com/search?safe=off&site=&tbm=isch&source=hp&q=\",query,\"&oq=\",query,\"&gs_l=img\")\n",
    "    # Load url\n",
    "    webdrv.get(search_url)\n",
    "    \n",
    "    image_urls = Set()\n",
    "    global image_count = 0\n",
    "    global results_start = 1\n",
    "    \n",
    "    while image_count < max_links\n",
    "        \n",
    "        # scroll to end\n",
    "        webdrv.execute_script(\"window.scrollTo(0, document.body.scrollHeight);\")\n",
    "        sleep(sleep_time)\n",
    "        \n",
    "        thumbnails = webdrv.find_elements_by_css_selector(\"img.Q4LuWd\")\n",
    "        number_results = length(thumbnails)\n",
    "        println(\"Found: $number_results search results. Extracting links from results $results_start:$number_results\")\n",
    "        \n",
    "        for img in thumbnails[results_start:number_results]\n",
    "            try\n",
    "                img.click()\n",
    "                sleep(1)\n",
    "            catch e\n",
    "                continue\n",
    "            end\n",
    "            \n",
    "            actual_images = webdrv.find_elements_by_css_selector(\"img.n3VNCb\")\n",
    "            for act_img in actual_images\n",
    "                if occursin(\"http\", act_img.get_attribute(\"src\"))\n",
    "                    push!(image_urls, act_img.get_attribute(\"src\"))\n",
    "                end\n",
    "            end\n",
    "            \n",
    "            global image_count = length(image_urls)\n",
    "            if image_count >= max_links\n",
    "                println(\"Found: $image_count image links. Complete.\")\n",
    "                break\n",
    "            end\n",
    "                \n",
    "        end\n",
    "            \n",
    "        if image_count < max_links\n",
    "            println(\"Found: $image_count image links, continuing search...\")\n",
    "        end        \n",
    "          \n",
    "        sleep(3)\n",
    "        \n",
    "        load_more_button = webdrv.find_element_by_css_selector(\".mye4qd\")\n",
    "        if typeof(load_more_button) == \"PyObject\"\n",
    "            webdrv.execute_script(\"document.querySelector('.mye4qd').click();\")\n",
    "        end   \n",
    "\n",
    "        # reset start point for results\n",
    "        global results_start = length(thumbnails)\n",
    "        \n",
    "    end\n",
    "    \n",
    "    return image_urls\n",
    "end"
   ]
  },
  {
   "cell_type": "markdown",
   "metadata": {},
   "source": [
    "The function below will save the images into a local directory named ```/web_images```."
   ]
  },
  {
   "cell_type": "code",
   "execution_count": 5,
   "metadata": {},
   "outputs": [
    {
     "data": {
      "text/plain": [
       "download_image_urls (generic function with 1 method)"
      ]
     },
     "execution_count": 5,
     "metadata": {},
     "output_type": "execute_result"
    }
   ],
   "source": [
    "function download_image_urls(dirname, url_set; filename=\"Image-\")\n",
    "    root_path = \"web_images\" # Folder where images will be saved to, create it if it doesn't exist\n",
    "    dl_path = joinpath(root_path,dirname)\n",
    "    if !isdir(dl_path)\n",
    "        println(\"Creating new directory to store images at $dl_path\")\n",
    "        mkdir(dl_path)\n",
    "    end\n",
    "    \n",
    "    in_count = length(url_set)\n",
    "    image_counter = 1\n",
    "    println(\"Downloading images...\")\n",
    "    for i ∈ url_set\n",
    "        try\n",
    "            img = load(download(i))\n",
    "            fl_name = string(filename, image_counter,\".jpg\")\n",
    "            fullname = joinpath(dl_path,fl_name)\n",
    "            save(fullname, img)\n",
    "            image_counter +=1\n",
    "        catch e\n",
    "            nothing\n",
    "        end\n",
    "    end\n",
    "    \n",
    "    out_count = length(readdir(dl_path))\n",
    "    \n",
    "    println(\"Saved $out_count images out of $in_count links to $dl_path\")\n",
    "end"
   ]
  },
  {
   "cell_type": "markdown",
   "metadata": {},
   "source": [
    "### Running & Saving a Single Query"
   ]
  },
  {
   "cell_type": "markdown",
   "metadata": {},
   "source": [
    "The processed that I used for collecting the yoga pose images was running separate queries for each pose name, then manually reviewing the harvest of each scrape and cleaning up the images as much as I could, deleting irrelevant images or incorrect poses, removing or altering duplicates, and deleting poor quality images.\n",
    "\n",
    "Below is the code for a single query scrape, and the next section shows how we can provide multiple queries and loop the funtion to scrape many poses in one go."
   ]
  },
  {
   "cell_type": "code",
   "execution_count": 6,
   "metadata": {},
   "outputs": [
    {
     "name": "stdout",
     "output_type": "stream",
     "text": [
      "Found: 100 search results. Extracting links from results 1:100\n",
      "Found: 175 image links, continuing search...\n",
      "Found: 312 search results. Extracting links from results 100:312\n",
      "Found: 251 image links. Complete.\n",
      "Creating new directory to store images at web_images\\cranecrow\n",
      "Downloading images...\n"
     ]
    },
    {
     "name": "stderr",
     "output_type": "stream",
     "text": [
      "┌ Error: Download failed: curl: (22) The requested URL returned error: 504 Gateway Time-out\n",
      "└ @ Base download.jl:43\n"
     ]
    },
    {
     "name": "stdout",
     "output_type": "stream",
     "text": [
      "Saved 276 images out of 251 links to web_images\\cranecrow\n"
     ]
    }
   ],
   "source": [
    "# Initiate WebDriver\n",
    "wd = webdriver.Chrome(executable_path=DRIVER_PATH)\n",
    "\n",
    "# Get Urls from Image Query\n",
    "goog_links = google_image_urls(\"Yoga Crane Crow Pose\", 250, wd, 2)\n",
    "\n",
    "# Quit WebDriver session\n",
    "wd.quit()\n",
    "\n",
    "# Download and save images to given directory\n",
    "download_image_urls(\"cranecrow\", goog_links; filename=\"cranecrow_\" )"
   ]
  },
  {
   "cell_type": "markdown",
   "metadata": {},
   "source": [
    "Sometimes a single image link will yield multiple images, like taking several frames from a video/GIF."
   ]
  },
  {
   "cell_type": "markdown",
   "metadata": {},
   "source": [
    "### Looping Multiple Queries"
   ]
  },
  {
   "cell_type": "code",
   "execution_count": 7,
   "metadata": {},
   "outputs": [
    {
     "data": {
      "text/plain": [
       "10-element Array{String,1}:\n",
       " \"yoga bridge pose\"\n",
       " \"yoga childs pose\"\n",
       " \"yoga downward dog pose\"\n",
       " \"yoga mountain pose\"\n",
       " \"yoga plank pose\"\n",
       " \"yoga seated forward fold\"\n",
       " \"yoga triangle pose\"\n",
       " \"yoga warrior one pose\"\n",
       " \"yoga warrior one pose\"\n",
       " \"ypga tree pose\""
      ]
     },
     "execution_count": 7,
     "metadata": {},
     "output_type": "execute_result"
    }
   ],
   "source": [
    "pose_queries = [ \n",
    "                \"yoga bridge pose\",\n",
    "                \"yoga childs pose\",\n",
    "                \"yoga downward dog pose\",\n",
    "                \"yoga mountain pose\",\n",
    "                \"yoga plank pose\",\n",
    "                \"yoga seated forward fold\",\n",
    "                \"yoga triangle pose\",\n",
    "                \"yoga warrior one pose\",\n",
    "                \"yoga warrior two pose\",\n",
    "                \"yoga tree pose\"\n",
    "                ]"
   ]
  },
  {
   "cell_type": "code",
   "execution_count": null,
   "metadata": {},
   "outputs": [],
   "source": [
    "for q in pose_queries\n",
    "    wd = webdriver.Chrome(executable_path=DRIVER_PATH)\n",
    "    image_url_links = google_image_urls(q, 500, wd, 2)\n",
    "    download_image_urls(q, image_url_links)\n",
    "    wd.quit()\n",
    "end"
   ]
  },
  {
   "cell_type": "code",
   "execution_count": null,
   "metadata": {},
   "outputs": [],
   "source": []
  }
 ],
 "metadata": {
  "kernelspec": {
   "display_name": "Julia 1.5.3",
   "language": "julia",
   "name": "julia-1.5"
  },
  "language_info": {
   "file_extension": ".jl",
   "mimetype": "application/julia",
   "name": "julia",
   "version": "1.5.3"
  }
 },
 "nbformat": 4,
 "nbformat_minor": 4
}
